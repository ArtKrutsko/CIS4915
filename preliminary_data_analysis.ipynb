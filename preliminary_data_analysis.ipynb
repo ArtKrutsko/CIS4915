{
 "cells": [
  {
   "cell_type": "code",
   "execution_count": 33,
   "metadata": {},
   "outputs": [],
   "source": [
    "import pandas as pd\n",
    "import numpy as np\n",
    "import matplotlib as plt"
   ]
  },
  {
   "cell_type": "markdown",
   "metadata": {},
   "source": [
    "##### Import data"
   ]
  },
  {
   "cell_type": "code",
   "execution_count": 61,
   "metadata": {},
   "outputs": [
    {
     "name": "stderr",
     "output_type": "stream",
     "text": [
      "C:\\Users\\artkr\\AppData\\Local\\Temp\\ipykernel_15920\\3389254165.py:1: DtypeWarning: Columns (31) have mixed types. Specify dtype option on import or set low_memory=False.\n",
      "  df = pd.read_csv(\"ML - Curricular Analytics - PIDM ONLY.csv\")\n"
     ]
    },
    {
     "data": {
      "text/plain": [
       "(2679373, 33)"
      ]
     },
     "metadata": {},
     "output_type": "display_data"
    }
   ],
   "source": [
    "df = pd.read_csv(\"ML - Curricular Analytics - PIDM ONLY.csv\")\n",
    "display(df.shape)"
   ]
  },
  {
   "cell_type": "markdown",
   "metadata": {},
   "source": [
    "##### Check all possible values in \"Repeat_Ind\""
   ]
  },
  {
   "cell_type": "code",
   "execution_count": 13,
   "metadata": {},
   "outputs": [
    {
     "data": {
      "text/plain": [
       "{'M', 'S'}"
      ]
     },
     "execution_count": 13,
     "metadata": {},
     "output_type": "execute_result"
    }
   ],
   "source": [
    "repeat_id_set = set(df[\"Repeat_Ind\"].dropna())\n",
    "repeat_id_set"
   ]
  },
  {
   "cell_type": "markdown",
   "metadata": {},
   "source": [
    "##### Number of distinct classes and students"
   ]
  },
  {
   "cell_type": "code",
   "execution_count": 38,
   "metadata": {},
   "outputs": [
    {
     "name": "stdout",
     "output_type": "stream",
     "text": [
      "Number of distinct classes = 5475\n",
      "Number of distinct students = 105993\n",
      "Number of males = 44637 ; females = 61343 ; nonbinary = 13\n"
     ]
    }
   ],
   "source": [
    "df[\"Full Course\"] = df[\"SUBJ\"]+df[\"CRSE_NUMB\"]\n",
    "course_set = set(df[\"Full Course\"].dropna())\n",
    "print(\"Number of distinct classes =\", len(course_set))\n",
    "\n",
    "\n",
    "student_set = set(df[\"Pidm\"].dropna())\n",
    "print(\"Number of distinct students =\", len(student_set))\n",
    "\n",
    "\n",
    "female_students = set(df[df['GENDER_Code'] == \"F\"]['Pidm'])\n",
    "male_students = set(df[df['GENDER_Code'] == \"M\"]['Pidm'])\n",
    "nonbinary_students = set(df[df['GENDER_Code'] == \"N\"]['Pidm'])\n",
    "print(\"Number of males =\", len(male_students), \"; females =\", len(female_students), \"; nonbinary =\", len(nonbinary_students))"
   ]
  },
  {
   "cell_type": "markdown",
   "metadata": {},
   "source": [
    "##### Perfromance statistics"
   ]
  },
  {
   "cell_type": "code",
   "execution_count": 56,
   "metadata": {},
   "outputs": [
    {
     "name": "stdout",
     "output_type": "stream",
     "text": [
      "All 78 grade codes = {'CI', 'CU', 'B#', 'C+*', 'B-', 'B', 'C-', 'C', 'CFF', 'A', 'CB-', 'MU', 'CW', 'A-', 'I', 'IU', 'CM', 'B*', 'D-', 'C*', 'CS', 'U*', 'F*', 'D+*', 'IU*', 'A+*', 'D#', 'D+', 'CB+', 'CA', 'W', 'C-*', 'B-*', 'IC', 'IF*', 'CA+', 'FF', 'CC+', 'F#', 'A*', 'D', 'D*', 'N', 'Z*', '-', 'IF', 'A+', 'Z', 'S', 'WE', 'B+#', 'U', 'CD', 'A-*', 'CIF', 'IS', 'CC-', 'IB', 'B+', 'A#', 'IC-', 'CF', 'C-#', 'CD-', 'CA-', 'W*', 'C+', 'S*', 'D-*', 'CB', 'WC', 'F', 'CC', 'IC+', 'ID', 'M', 'CD+', 'B+*'}\n"
     ]
    },
    {
     "data": {
      "text/plain": [
       "1983       6971\n",
       "2236       7980\n",
       "2237       7980\n",
       "2238       7980\n",
       "2239       7980\n",
       "           ... \n",
       "2104822    6971\n",
       "2139939    6971\n",
       "2139943    6971\n",
       "2139946    6971\n",
       "2320586    6971\n",
       "Name: CRSE_NUMB, Length: 1103, dtype: object"
      ]
     },
     "metadata": {},
     "output_type": "display_data"
    }
   ],
   "source": [
    "grades = set(df[\"SHRTCKG_GRDE_CODE_FINAL\"].dropna())\n",
    "print(\"All\", len(grades), \"grade codes =\", grades)\n",
    "A_grades = ['A*', 'A+', 'A-*', 'A#', 'A+*', 'A-', 'A', 'S', 'S*']\n",
    "B_grades = ['B#', 'B-', 'B', 'B*', 'B-*', 'B+#', 'B+', 'B+*']\n",
    "C_grades = ['C+*', 'C-', 'C', 'C*', 'C-*', 'CA+', 'C-#', 'C+']\n",
    "Fail_grades = {'D-', 'F*', 'D+*', 'D#', 'D+', 'F#', 'D', 'D*', 'D-*', 'F'}\n",
    "\n",
    "Z_grade = df[df['SHRTCKG_GRDE_CODE_FINAL'] == \"Z\"][\"CRSE_NUMB\"]\n",
    "display(Z_grade)\n",
    "\n",
    "A_counts = df[df['SHRTCKG_GRDE_CODE_FINAL'].isin(A_grades)]\n",
    "B_counts = df[df['SHRTCKG_GRDE_CODE_FINAL'].isin(B_grades)]\n",
    "C_counts = df[df['SHRTCKG_GRDE_CODE_FINAL'].isin(C_grades)]\n",
    "Fail_counts = df[df['SHRTCKG_GRDE_CODE_FINAL'].isin(Fail_grades)]"
   ]
  },
  {
   "cell_type": "code",
   "execution_count": 62,
   "metadata": {},
   "outputs": [
    {
     "name": "stdout",
     "output_type": "stream",
     "text": [
      "A-class grades 1486971\n",
      "B-class grades 667085\n",
      "C-class grades 278788\n",
      "Fail-class grades 135402\n",
      "Unclassified grades 111127\n"
     ]
    }
   ],
   "source": [
    "print(\"A-class grades\", A_counts.shape[0])\n",
    "print(\"B-class grades\", B_counts.shape[0])\n",
    "print(\"C-class grades\", C_counts.shape[0])\n",
    "print(\"Fail-class grades\", Fail_counts.shape[0])\n",
    "print(\"Unclassified grades\", df.shape[0] - A_counts.shape[0] - B_counts.shape[0] - C_counts.shape[0] - Fail_counts.shape[0])"
   ]
  },
  {
   "cell_type": "markdown",
   "metadata": {},
   "source": [
    "// Ask grade unclassified grade definitions\n",
    "// check undergrad vs grad students"
   ]
  }
 ],
 "metadata": {
  "kernelspec": {
   "display_name": "Python 3",
   "language": "python",
   "name": "python3"
  },
  "language_info": {
   "codemirror_mode": {
    "name": "ipython",
    "version": 3
   },
   "file_extension": ".py",
   "mimetype": "text/x-python",
   "name": "python",
   "nbconvert_exporter": "python",
   "pygments_lexer": "ipython3",
   "version": "3.10.5"
  }
 },
 "nbformat": 4,
 "nbformat_minor": 2
}
