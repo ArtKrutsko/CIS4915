{
 "cells": [
  {
   "cell_type": "code",
   "execution_count": 1,
   "id": "479c74ae-5deb-4c12-aee5-3f257e1020c0",
   "metadata": {},
   "outputs": [
    {
     "name": "stderr",
     "output_type": "stream",
     "text": [
      "C:\\Users\\judem\\AppData\\Local\\Temp\\ipykernel_3348\\2249383029.py:3: DtypeWarning: Columns (31) have mixed types. Specify dtype option on import or set low_memory=False.\n",
      "  student_data = pd.read_csv(\"ML - Curricular Analytics - PIDM ONLY & Fixed Repeat IND.csv\")\n"
     ]
    },
    {
     "data": {
      "text/plain": [
       "(2677409, 33)"
      ]
     },
     "execution_count": 1,
     "metadata": {},
     "output_type": "execute_result"
    }
   ],
   "source": [
    "import pandas as pd\n",
    "\n",
    "student_data = pd.read_csv(\"ML - Curricular Analytics - PIDM ONLY & Fixed Repeat IND.csv\")\n",
    "grades = pd.read_csv(\"parsed_grades.csv\")\n",
    "student_data.shape"
   ]
  },
  {
   "cell_type": "code",
   "execution_count": 2,
   "id": "e042a8cd-996f-4091-a764-b11e6dc25d75",
   "metadata": {},
   "outputs": [
    {
     "data": {
      "text/plain": [
       "(2510910, 34)"
      ]
     },
     "execution_count": 2,
     "metadata": {},
     "output_type": "execute_result"
    }
   ],
   "source": [
    "#Add Numeric GPA Column\n",
    "\n",
    "grade_mapping = dict(grades[['Code', 'Quality Points']].values)\n",
    "\n",
    "student_data = student_data.drop(student_data[(student_data.FINAL_GRADE == 'W') | \n",
    "                                              (student_data.FINAL_GRADE == 'S') | \n",
    "                                              (student_data.FINAL_GRADE == 'U') | \n",
    "                                              (student_data.FINAL_GRADE.isna()) |\n",
    "                                              (student_data.FINAL_GRADE == '')].index)\n",
    "\n",
    "student_data['numeric_gpa'] = student_data.FINAL_GRADE.map(grade_mapping)\n",
    "student_data['numeric_gpa'] = student_data['numeric_gpa'].astype(float)\n",
    "\n",
    "student_data.shape"
   ]
  },
  {
   "cell_type": "code",
   "execution_count": 3,
   "id": "618a6de0-7515-41e5-9414-2434ae3c31cf",
   "metadata": {},
   "outputs": [
    {
     "data": {
      "text/plain": [
       "(2510910, 34)"
      ]
     },
     "execution_count": 3,
     "metadata": {},
     "output_type": "execute_result"
    }
   ],
   "source": [
    "#Final and Semester GPAs (Assuming all classes are equal credits)\n",
    "\n",
    "student_final_gpa = student_data.groupby('Pidm')['numeric_gpa'].mean().reset_index()\n",
    "\n",
    "student_semester_gpa = student_data.groupby(['Pidm', 'Term'])['numeric_gpa'].mean().reset_index()\n",
    "\n",
    "# print(student_final_gpa)\n",
    "# print(student_semester_gpa)\n",
    "student_data.shape"
   ]
  },
  {
   "cell_type": "code",
   "execution_count": 4,
   "id": "f2d6f2ba-677c-4b11-9a18-ec910247bcfd",
   "metadata": {},
   "outputs": [
    {
     "data": {
      "text/plain": [
       "(2510910, 35)"
      ]
     },
     "execution_count": 4,
     "metadata": {},
     "output_type": "execute_result"
    }
   ],
   "source": [
    "#Student Classes per Semester (As an array of strings)\n",
    "\n",
    "student_data['class'] = (student_data['SUBJ'] + student_data['CRSE_NUMB']).astype(str)\n",
    "semester_classes = student_data.groupby(['Pidm', 'Term']).agg({\n",
    "    'FINAL_GRADE': list,\n",
    "    'class': list\n",
    "}).reset_index()\n",
    "\n",
    "# semester_classes.head()\n",
    "student_data.shape"
   ]
  },
  {
   "cell_type": "code",
   "execution_count": 5,
   "id": "3b95d27a-c422-4ff0-b907-de3a2a5b1e89",
   "metadata": {},
   "outputs": [
    {
     "data": {
      "text/plain": [
       "(2510910, 29)"
      ]
     },
     "execution_count": 5,
     "metadata": {},
     "output_type": "execute_result"
    }
   ],
   "source": [
    "student_gpa_map = dict(student_final_gpa[['Pidm', 'numeric_gpa']].values)\n",
    "student_data['Final GPA'] = student_data.Pidm.map(student_gpa_map)\n",
    "\n",
    "student_data.drop(['CRN', 'SUBJ', 'CRSE_NUMB', 'REPEAT_IND', 'FINAL_GRADE', 'numeric_gpa', 'class'], axis=1, inplace=True)\n",
    "# student_data.head()\n",
    "student_data.shape\n",
    "# display(student_data[student_data[\"Pidm\"] == 3963])"
   ]
  },
  {
   "cell_type": "code",
   "execution_count": 6,
   "id": "476c5188-971c-4f4e-bf9b-678675705bc0",
   "metadata": {
    "scrolled": true
   },
   "outputs": [
    {
     "data": {
      "text/plain": [
       "(663750, 27)"
      ]
     },
     "execution_count": 6,
     "metadata": {},
     "output_type": "execute_result"
    }
   ],
   "source": [
    "student_data = student_data.groupby(['Pidm', 'Term']).agg({ \n",
    "    'Admit_Code': 'first', \n",
    "    'Admit_Level': 'first', \n",
    "    'Admit_College': 'first', \n",
    "    'Admit_Major_Code': 'first', \n",
    "    'Major_Desc': 'first', \n",
    "    'Trump_Race': 'first', \n",
    "    'Trump_Race_Desc': 'first', \n",
    "    'MULTI': 'first', \n",
    "    'Race': 'first', \n",
    "    'NEW_ETHNICITY': 'first', \n",
    "    'GENDER_Code': 'first', \n",
    "    'GENDER': 'first', \n",
    "    'CITZ_IND': 'first', \n",
    "    'CITZ_CODE': 'first', \n",
    "    'CITZ_DESC': 'first', \n",
    "    'Final_GPA': 'first', \n",
    "    'ACTE': 'first', \n",
    "    'ACTM': 'first', \n",
    "    'ACTR': 'first', \n",
    "    'ACTS': 'first', \n",
    "    'EACT': 'first', \n",
    "    'SAT-ERW': 'first', \n",
    "    'SATM': 'first', \n",
    "    'SAT_TOTAL': 'first', \n",
    "    'Final GPA': 'first'\n",
    "}).reset_index()\n",
    "\n",
    "student_data.shape\n",
    "\n"
   ]
  },
  {
   "cell_type": "code",
   "execution_count": 7,
   "id": "403e6758-3536-461d-8b01-a29fc0aad903",
   "metadata": {},
   "outputs": [
    {
     "data": {
      "text/html": [
       "<div>\n",
       "<style scoped>\n",
       "    .dataframe tbody tr th:only-of-type {\n",
       "        vertical-align: middle;\n",
       "    }\n",
       "\n",
       "    .dataframe tbody tr th {\n",
       "        vertical-align: top;\n",
       "    }\n",
       "\n",
       "    .dataframe thead th {\n",
       "        text-align: right;\n",
       "    }\n",
       "</style>\n",
       "<table border=\"1\" class=\"dataframe\">\n",
       "  <thead>\n",
       "    <tr style=\"text-align: right;\">\n",
       "      <th></th>\n",
       "      <th>Pidm</th>\n",
       "      <th>Semester</th>\n",
       "      <th>Admit_Code</th>\n",
       "      <th>Admit_Level</th>\n",
       "      <th>Admit_College</th>\n",
       "      <th>Admit_Major_Code</th>\n",
       "      <th>Major_Desc</th>\n",
       "      <th>Trump_Race</th>\n",
       "      <th>Trump_Race_Desc</th>\n",
       "      <th>MULTI</th>\n",
       "      <th>...</th>\n",
       "      <th>ACTR</th>\n",
       "      <th>ACTS</th>\n",
       "      <th>EACT</th>\n",
       "      <th>SAT-ERW</th>\n",
       "      <th>SATM</th>\n",
       "      <th>SAT_TOTAL</th>\n",
       "      <th>Final GPA</th>\n",
       "      <th>Semester GPA</th>\n",
       "      <th>Semester Grades</th>\n",
       "      <th>Classes</th>\n",
       "    </tr>\n",
       "  </thead>\n",
       "  <tbody>\n",
       "    <tr>\n",
       "      <th>0</th>\n",
       "      <td>285</td>\n",
       "      <td>202101.0</td>\n",
       "      <td>FS</td>\n",
       "      <td>UG</td>\n",
       "      <td>SA</td>\n",
       "      <td>BGS</td>\n",
       "      <td>General Studies</td>\n",
       "      <td>W</td>\n",
       "      <td>White</td>\n",
       "      <td>None</td>\n",
       "      <td>...</td>\n",
       "      <td>-</td>\n",
       "      <td>-</td>\n",
       "      <td>-</td>\n",
       "      <td>-</td>\n",
       "      <td>-</td>\n",
       "      <td>-</td>\n",
       "      <td>3.750000</td>\n",
       "      <td>3.75</td>\n",
       "      <td>[A, A-, B+, A]</td>\n",
       "      <td>[LIS3361, LIS3353, COP2030, CIS4510]</td>\n",
       "    </tr>\n",
       "    <tr>\n",
       "      <th>1</th>\n",
       "      <td>432</td>\n",
       "      <td>201908.0</td>\n",
       "      <td>FS</td>\n",
       "      <td>UG</td>\n",
       "      <td>SA</td>\n",
       "      <td>BGS</td>\n",
       "      <td>General Studies</td>\n",
       "      <td>B</td>\n",
       "      <td>Black or African American</td>\n",
       "      <td>Multi-Race</td>\n",
       "      <td>...</td>\n",
       "      <td>-</td>\n",
       "      <td>-</td>\n",
       "      <td>-</td>\n",
       "      <td>-</td>\n",
       "      <td>-</td>\n",
       "      <td>-</td>\n",
       "      <td>0.000000</td>\n",
       "      <td>0.00</td>\n",
       "      <td>[IF, F, F]</td>\n",
       "      <td>[MUS4930, CCJ3117, IDS4934]</td>\n",
       "    </tr>\n",
       "    <tr>\n",
       "      <th>2</th>\n",
       "      <td>705</td>\n",
       "      <td>202208.0</td>\n",
       "      <td>SB</td>\n",
       "      <td>UG</td>\n",
       "      <td>NR</td>\n",
       "      <td>PNR</td>\n",
       "      <td>Pre-Nursing</td>\n",
       "      <td>W</td>\n",
       "      <td>White</td>\n",
       "      <td>None</td>\n",
       "      <td>...</td>\n",
       "      <td>36</td>\n",
       "      <td>29</td>\n",
       "      <td>30</td>\n",
       "      <td>-</td>\n",
       "      <td>-</td>\n",
       "      <td>-</td>\n",
       "      <td>4.000000</td>\n",
       "      <td>4.00</td>\n",
       "      <td>[A, A+, A, A, A, A]</td>\n",
       "      <td>[MCB2000, MCB2000L, HUN2201, BSC2085, BSC2085L...</td>\n",
       "    </tr>\n",
       "    <tr>\n",
       "      <th>3</th>\n",
       "      <td>794</td>\n",
       "      <td>201508.0</td>\n",
       "      <td>SB</td>\n",
       "      <td>UG</td>\n",
       "      <td>SA</td>\n",
       "      <td>PNR</td>\n",
       "      <td>Pre-Nursing</td>\n",
       "      <td>W</td>\n",
       "      <td>White</td>\n",
       "      <td>None</td>\n",
       "      <td>...</td>\n",
       "      <td>25</td>\n",
       "      <td>22</td>\n",
       "      <td>25</td>\n",
       "      <td>-</td>\n",
       "      <td>-</td>\n",
       "      <td>-</td>\n",
       "      <td>3.977241</td>\n",
       "      <td>4.00</td>\n",
       "      <td>[A+, A+, A+]</td>\n",
       "      <td>[NUR3805, NUR3078, NUR4895]</td>\n",
       "    </tr>\n",
       "    <tr>\n",
       "      <th>4</th>\n",
       "      <td>794</td>\n",
       "      <td>201601.0</td>\n",
       "      <td>SB</td>\n",
       "      <td>UG</td>\n",
       "      <td>SA</td>\n",
       "      <td>PNR</td>\n",
       "      <td>Pre-Nursing</td>\n",
       "      <td>W</td>\n",
       "      <td>White</td>\n",
       "      <td>None</td>\n",
       "      <td>...</td>\n",
       "      <td>25</td>\n",
       "      <td>22</td>\n",
       "      <td>25</td>\n",
       "      <td>-</td>\n",
       "      <td>-</td>\n",
       "      <td>-</td>\n",
       "      <td>3.977241</td>\n",
       "      <td>4.00</td>\n",
       "      <td>[A+, A+]</td>\n",
       "      <td>[NUR4828C, NUR4128]</td>\n",
       "    </tr>\n",
       "  </tbody>\n",
       "</table>\n",
       "<p>5 rows × 30 columns</p>\n",
       "</div>"
      ],
      "text/plain": [
       "   Pidm  Semester Admit_Code Admit_Level Admit_College Admit_Major_Code  \\\n",
       "0   285  202101.0         FS          UG            SA              BGS   \n",
       "1   432  201908.0         FS          UG            SA              BGS   \n",
       "2   705  202208.0         SB          UG            NR              PNR   \n",
       "3   794  201508.0         SB          UG            SA              PNR   \n",
       "4   794  201601.0         SB          UG            SA              PNR   \n",
       "\n",
       "        Major_Desc Trump_Race            Trump_Race_Desc       MULTI  ...  \\\n",
       "0  General Studies          W                      White        None  ...   \n",
       "1  General Studies          B  Black or African American  Multi-Race  ...   \n",
       "2      Pre-Nursing          W                      White        None  ...   \n",
       "3      Pre-Nursing          W                      White        None  ...   \n",
       "4      Pre-Nursing          W                      White        None  ...   \n",
       "\n",
       "  ACTR ACTS EACT SAT-ERW SATM SAT_TOTAL Final GPA  Semester GPA  \\\n",
       "0    -    -    -       -    -         -  3.750000          3.75   \n",
       "1    -    -    -       -    -         -  0.000000          0.00   \n",
       "2   36   29   30       -    -         -  4.000000          4.00   \n",
       "3   25   22   25       -    -         -  3.977241          4.00   \n",
       "4   25   22   25       -    -         -  3.977241          4.00   \n",
       "\n",
       "       Semester Grades                                            Classes  \n",
       "0       [A, A-, B+, A]               [LIS3361, LIS3353, COP2030, CIS4510]  \n",
       "1           [IF, F, F]                        [MUS4930, CCJ3117, IDS4934]  \n",
       "2  [A, A+, A, A, A, A]  [MCB2000, MCB2000L, HUN2201, BSC2085, BSC2085L...  \n",
       "3         [A+, A+, A+]                        [NUR3805, NUR3078, NUR4895]  \n",
       "4             [A+, A+]                                [NUR4828C, NUR4128]  \n",
       "\n",
       "[5 rows x 30 columns]"
      ]
     },
     "execution_count": 7,
     "metadata": {},
     "output_type": "execute_result"
    }
   ],
   "source": [
    "student_data['Semester GPA'] = student_data.merge(student_semester_gpa[['Pidm', 'Term', 'numeric_gpa']], on=['Pidm', 'Term'], how='left')['numeric_gpa']\n",
    "\n",
    "student_data = student_data.merge(semester_classes[['Pidm', 'Term', 'FINAL_GRADE', 'class']], on=['Pidm', 'Term'], how='left')\n",
    "student_data.rename(columns={'Final_GPA':'HS GPA', 'Term':'Semester','FINAL_GRADE':'Semester Grades', 'class':'Classes'}, inplace=True)\n",
    "\n",
    "\n",
    "\n",
    "student_data.head()\n",
    "# student_data.shape"
   ]
  },
  {
   "cell_type": "code",
   "execution_count": 8,
   "id": "ef62c77a-8336-4f79-9d83-c40da51931b3",
   "metadata": {},
   "outputs": [],
   "source": [
    "student_data = student_data.astype(str)\n",
    "student_data['Pidm'] = student_data['Pidm'].astype(int)\n",
    "student_data['Final GPA'] = student_data['Final GPA'].astype(float).round(2)\n",
    "student_data['Semester GPA'] = student_data['Semester GPA'].astype(float).round(2)\n",
    "student_data['Semester'] = student_data['Semester'].astype(float).astype(int).astype(str)\n",
    "student_data.to_csv(\"formatted_data.csv\", index=False)"
   ]
  },
  {
   "cell_type": "code",
   "execution_count": 9,
   "id": "912f09d2-d8c7-487b-83a1-1fdbf6cd4491",
   "metadata": {},
   "outputs": [
    {
     "data": {
      "text/html": [
       "<div>\n",
       "<style scoped>\n",
       "    .dataframe tbody tr th:only-of-type {\n",
       "        vertical-align: middle;\n",
       "    }\n",
       "\n",
       "    .dataframe tbody tr th {\n",
       "        vertical-align: top;\n",
       "    }\n",
       "\n",
       "    .dataframe thead th {\n",
       "        text-align: right;\n",
       "    }\n",
       "</style>\n",
       "<table border=\"1\" class=\"dataframe\">\n",
       "  <thead>\n",
       "    <tr style=\"text-align: right;\">\n",
       "      <th></th>\n",
       "      <th>Pidm</th>\n",
       "      <th>Term</th>\n",
       "      <th>FINAL_GRADE</th>\n",
       "      <th>class</th>\n",
       "    </tr>\n",
       "  </thead>\n",
       "  <tbody>\n",
       "    <tr>\n",
       "      <th>0</th>\n",
       "      <td>285</td>\n",
       "      <td>202101.0</td>\n",
       "      <td>[A, A-, B+, A]</td>\n",
       "      <td>[LIS3361, LIS3353, COP2030, CIS4510]</td>\n",
       "    </tr>\n",
       "    <tr>\n",
       "      <th>1</th>\n",
       "      <td>432</td>\n",
       "      <td>201908.0</td>\n",
       "      <td>[IF, F, F]</td>\n",
       "      <td>[MUS4930, CCJ3117, IDS4934]</td>\n",
       "    </tr>\n",
       "    <tr>\n",
       "      <th>2</th>\n",
       "      <td>705</td>\n",
       "      <td>202208.0</td>\n",
       "      <td>[A, A+, A, A, A, A]</td>\n",
       "      <td>[MCB2000, MCB2000L, HUN2201, BSC2085, BSC2085L...</td>\n",
       "    </tr>\n",
       "    <tr>\n",
       "      <th>3</th>\n",
       "      <td>794</td>\n",
       "      <td>201508.0</td>\n",
       "      <td>[A+, A+, A+]</td>\n",
       "      <td>[NUR3805, NUR3078, NUR4895]</td>\n",
       "    </tr>\n",
       "    <tr>\n",
       "      <th>4</th>\n",
       "      <td>794</td>\n",
       "      <td>201601.0</td>\n",
       "      <td>[A+, A+]</td>\n",
       "      <td>[NUR4828C, NUR4128]</td>\n",
       "    </tr>\n",
       "  </tbody>\n",
       "</table>\n",
       "</div>"
      ],
      "text/plain": [
       "   Pidm      Term          FINAL_GRADE  \\\n",
       "0   285  202101.0       [A, A-, B+, A]   \n",
       "1   432  201908.0           [IF, F, F]   \n",
       "2   705  202208.0  [A, A+, A, A, A, A]   \n",
       "3   794  201508.0         [A+, A+, A+]   \n",
       "4   794  201601.0             [A+, A+]   \n",
       "\n",
       "                                               class  \n",
       "0               [LIS3361, LIS3353, COP2030, CIS4510]  \n",
       "1                        [MUS4930, CCJ3117, IDS4934]  \n",
       "2  [MCB2000, MCB2000L, HUN2201, BSC2085, BSC2085L...  \n",
       "3                        [NUR3805, NUR3078, NUR4895]  \n",
       "4                                [NUR4828C, NUR4128]  "
      ]
     },
     "execution_count": 9,
     "metadata": {},
     "output_type": "execute_result"
    }
   ],
   "source": [
    "semester_classes.head()"
   ]
  },
  {
   "cell_type": "code",
   "execution_count": null,
   "id": "5bd5189c-0e50-4c82-9dbe-95c3b84a6d22",
   "metadata": {},
   "outputs": [],
   "source": []
  }
 ],
 "metadata": {
  "kernelspec": {
   "display_name": "Python 3 (ipykernel)",
   "language": "python",
   "name": "python3"
  },
  "language_info": {
   "codemirror_mode": {
    "name": "ipython",
    "version": 3
   },
   "file_extension": ".py",
   "mimetype": "text/x-python",
   "name": "python",
   "nbconvert_exporter": "python",
   "pygments_lexer": "ipython3",
   "version": "3.12.4"
  }
 },
 "nbformat": 4,
 "nbformat_minor": 5
}
