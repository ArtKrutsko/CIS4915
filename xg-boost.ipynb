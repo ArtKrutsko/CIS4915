{
 "cells": [
  {
   "cell_type": "code",
   "execution_count": 127,
   "id": "effe4966",
   "metadata": {},
   "outputs": [
    {
     "name": "stdout",
     "output_type": "stream",
     "text": [
      "First 5 rows of the dataset:\n",
      "\n",
      "First 5 rows after adding 'pass_fail' column:\n"
     ]
    },
    {
     "data": {
      "text/html": [
       "<div>\n",
       "<style scoped>\n",
       "    .dataframe tbody tr th:only-of-type {\n",
       "        vertical-align: middle;\n",
       "    }\n",
       "\n",
       "    .dataframe tbody tr th {\n",
       "        vertical-align: top;\n",
       "    }\n",
       "\n",
       "    .dataframe thead th {\n",
       "        text-align: right;\n",
       "    }\n",
       "</style>\n",
       "<table border=\"1\" class=\"dataframe\">\n",
       "  <thead>\n",
       "    <tr style=\"text-align: right;\">\n",
       "      <th></th>\n",
       "      <th>CHM2210_Grade</th>\n",
       "      <th>pass_fail</th>\n",
       "    </tr>\n",
       "  </thead>\n",
       "  <tbody>\n",
       "    <tr>\n",
       "      <th>0</th>\n",
       "      <td>A</td>\n",
       "      <td>1</td>\n",
       "    </tr>\n",
       "    <tr>\n",
       "      <th>1</th>\n",
       "      <td>A-</td>\n",
       "      <td>1</td>\n",
       "    </tr>\n",
       "    <tr>\n",
       "      <th>2</th>\n",
       "      <td>A+</td>\n",
       "      <td>1</td>\n",
       "    </tr>\n",
       "    <tr>\n",
       "      <th>3</th>\n",
       "      <td>C-</td>\n",
       "      <td>1</td>\n",
       "    </tr>\n",
       "    <tr>\n",
       "      <th>4</th>\n",
       "      <td>C</td>\n",
       "      <td>1</td>\n",
       "    </tr>\n",
       "  </tbody>\n",
       "</table>\n",
       "</div>"
      ],
      "text/plain": [
       "  CHM2210_Grade  pass_fail\n",
       "0             A          1\n",
       "1            A-          1\n",
       "2            A+          1\n",
       "3            C-          1\n",
       "4             C          1"
      ]
     },
     "execution_count": 127,
     "metadata": {},
     "output_type": "execute_result"
    }
   ],
   "source": [
    "# Load the dataset and map pass/fail column based on grades\n",
    "import pandas as pd\n",
    "\n",
    "# Load the dataset\n",
    "grouped_df = pd.read_csv(\"data/grouped_train.csv\")\n",
    "\n",
    "# Check the first few rows of the dataset to ensure it's loaded correctly\n",
    "print(\"First 5 rows of the dataset:\")\n",
    "# print(grouped_df.head())\n",
    "\n",
    "# Map the pass/fail logic based on grades (we will use this logic in a later step)\n",
    "def map_pass_fail(grade):\n",
    "    fail_grades = ['F', 'IF', 'W', 'D-', 'F+', 'D+', 'D#', 'D-', 'U', 'W', 'I', 'FF', 'Z', 'M', 'U*', 'ID', 'IB']\n",
    "    if grade in fail_grades:\n",
    "        return 0  # Fail\n",
    "    else:\n",
    "        return 1  # Pass\n",
    "\n",
    "# Apply the mapping to create the 'pass_fail' column\n",
    "grouped_df['pass_fail'] = grouped_df['CHM2210_Grade'].apply(map_pass_fail)\n",
    "\n",
    "# Check the first few rows again to verify the new column\n",
    "print(\"\\nFirst 5 rows after adding 'pass_fail' column:\")\n",
    "grouped_df[['CHM2210_Grade', 'pass_fail']].head()\n"
   ]
  },
  {
   "cell_type": "code",
   "execution_count": 180,
   "id": "f96f67bc",
   "metadata": {},
   "outputs": [
    {
     "name": "stdout",
     "output_type": "stream",
     "text": [
      "\n",
      "Shape of X (features): (9383, 2)\n",
      "Shape of y (target): (9383,)\n",
      "\n",
      "First 5 rows of X (features):\n",
      "   HS GPA  Converted_SAT\n",
      "0    3.44         1280.0\n",
      "1    2.50         1180.0\n",
      "2    2.43         1040.0\n",
      "3    2.61         1010.0\n",
      "4    3.10          890.0\n",
      "\n",
      "First 5 rows of y (target - pass/fail):\n",
      "0    1\n",
      "1    1\n",
      "2    1\n",
      "3    1\n",
      "4    1\n",
      "Name: pass_fail, dtype: int64\n"
     ]
    }
   ],
   "source": [
    "y = grouped_df['pass_fail']\n",
    "\n",
    "\n",
    "# Define the features (X), keeping HS GPA, Converted_SAT, and other relevant features\n",
    "# We'll exclude any identifier columns (like Pidm) or target columns (like CHM2210_Grade, CHM2210_Points)\n",
    "feature_columns = ['HS GPA', 'Converted_SAT']  # Include other relevant columns if necessary\n",
    "\n",
    "# Extract the feature set\n",
    "X = grouped_df[feature_columns]\n",
    "\n",
    "# Check the shape of X and y to confirm they align\n",
    "print(\"\\nShape of X (features):\", X.shape)\n",
    "print(\"Shape of y (target):\", y.shape)\n",
    "\n",
    "# Check the first few rows of X and y to ensure they are set up correctly\n",
    "print(\"\\nFirst 5 rows of X (features):\")\n",
    "print(X.head())\n",
    "\n",
    "print(\"\\nFirst 5 rows of y (target - pass/fail):\")\n",
    "print(y.head())"
   ]
  },
  {
   "cell_type": "code",
   "execution_count": 166,
   "id": "576bbd32",
   "metadata": {},
   "outputs": [
    {
     "name": "stdout",
     "output_type": "stream",
     "text": [
      "\n",
      "Shape of X_train (training features): (7506, 2)\n",
      "Shape of X_test (test features): (1877, 2)\n",
      "Shape of y_train (training target): (7506,)\n",
      "Shape of y_test (test target): (1877,)\n"
     ]
    }
   ],
   "source": [
    "from sklearn.model_selection import train_test_split\n",
    "\n",
    "# Split the data into training and test sets\n",
    "X_train, X_test, y_train, y_test = train_test_split(X, y, test_size=0.2, random_state=42)\n",
    "\n",
    "# Check the shape of the training and test sets to ensure the split is correct\n",
    "print(\"\\nShape of X_train (training features):\", X_train.shape)\n",
    "print(\"Shape of X_test (test features):\", X_test.shape)\n",
    "print(\"Shape of y_train (training target):\", y_train.shape)\n",
    "print(\"Shape of y_test (test target):\", y_test.shape)"
   ]
  },
  {
   "cell_type": "code",
   "execution_count": 168,
   "id": "73ac15b5",
   "metadata": {},
   "outputs": [
    {
     "name": "stdout",
     "output_type": "stream",
     "text": [
      "\n",
      "Model Performance on Test Set:\n",
      "Root Mean Squared Error (RMSE): 0.23\n",
      "R-Squared Score: -0.22\n",
      "\n",
      "First 5 predicted values vs actual values:\n",
      "Predicted: 0.76, Actual: 1\n",
      "Predicted: 0.99, Actual: 1\n",
      "Predicted: 0.96, Actual: 1\n",
      "Predicted: 0.48, Actual: 1\n",
      "Predicted: 0.98, Actual: 1\n"
     ]
    }
   ],
   "source": [
    "from xgboost import XGBRegressor\n",
    "from sklearn.metrics import root_mean_squared_error, r2_score\n",
    "\n",
    "# Train the XGBoost Regression model\n",
    "model = XGBRegressor(random_state=42)\n",
    "\n",
    "# Train the model on the training data\n",
    "model.fit(X_train, y_train)\n",
    "\n",
    "# Make predictions on the test set\n",
    "y_pred = model.predict(X_test)\n",
    "\n",
    "# Evaluate the model: Root Mean Squared Error (RMSE) and R-squared (R²)\n",
    "rmse = root_mean_squared_error(y_test, y_pred)  # squared=False gives RMSE\n",
    "r2 = r2_score(y_test, y_pred)\n",
    "\n",
    "print(\"\\nModel Performance on Test Set:\")\n",
    "print(f\"Root Mean Squared Error (RMSE): {rmse:.2f}\")\n",
    "print(f\"R-Squared Score: {r2:.2f}\")\n",
    "\n",
    "# Optionally, you can also check the first few predictions vs. actual values\n",
    "print(\"\\nFirst 5 predicted values vs actual values:\")\n",
    "for pred, actual in zip(y_pred[:5], y_test[:5]):\n",
    "    print(f\"Predicted: {pred:.2f}, Actual: {actual}\")"
   ]
  },
  {
   "cell_type": "code",
   "execution_count": 170,
   "id": "c6fb68a7",
   "metadata": {},
   "outputs": [
    {
     "data": {
      "image/png": "[encoded data removed]",
      "text/plain": [
       "<Figure size 640x480 with 1 Axes>"
      ]
     },
     "metadata": {},
     "output_type": "display_data"
    }
   ],
   "source": [
    "import matplotlib.pyplot as plt\n",
    "import xgboost as xgb\n",
    "\n",
    "# Plot feature importance\n",
    "xgb.plot_importance(model)\n",
    "plt.show()"
   ]
  },
  {
   "cell_type": "code",
   "execution_count": 171,
   "id": "682205f3",
   "metadata": {},
   "outputs": [
    {
     "name": "stdout",
     "output_type": "stream",
     "text": [
      "\n",
      "Model Performance on Test Set (with Scaled Features):\n",
      "Root Mean Squared Error (RMSE): 0.23\n",
      "R-Squared Score: -0.22\n",
      "\n",
      "First 5 predicted values vs actual values (with Scaled Features):\n",
      "Predicted: 0.76, Actual: 1\n",
      "Predicted: 0.99, Actual: 1\n",
      "Predicted: 0.96, Actual: 1\n",
      "Predicted: 0.48, Actual: 1\n",
      "Predicted: 0.98, Actual: 1\n"
     ]
    }
   ],
   "source": [
    "from sklearn.preprocessing import StandardScaler\n",
    "\n",
    "# Scale the features\n",
    "scaler = StandardScaler()\n",
    "X_train_scaled = scaler.fit_transform(X_train)\n",
    "X_test_scaled = scaler.transform(X_test)\n",
    "\n",
    "# Train the model again on scaled data\n",
    "model.fit(X_train_scaled, y_train)\n",
    "\n",
    "# Make predictions on the test set\n",
    "y_pred_scaled = model.predict(X_test_scaled)\n",
    "\n",
    "# Evaluate the model again using RMSE and R²\n",
    "rmse_scaled = root_mean_squared_error(y_test, y_pred_scaled)\n",
    "r2_scaled = r2_score(y_test, y_pred_scaled)\n",
    "\n",
    "print(\"\\nModel Performance on Test Set (with Scaled Features):\")\n",
    "print(f\"Root Mean Squared Error (RMSE): {rmse_scaled:.2f}\")\n",
    "print(f\"R-Squared Score: {r2_scaled:.2f}\")\n",
    "\n",
    "# Check the first few predicted values again\n",
    "print(\"\\nFirst 5 predicted values vs actual values (with Scaled Features):\")\n",
    "for pred, actual in zip(y_pred_scaled[:5], y_test[:5]):\n",
    "    print(f\"Predicted: {pred:.2f}, Actual: {actual}\")\n"
   ]
  },
  {
   "cell_type": "code",
   "execution_count": 175,
   "id": "ff7546c1",
   "metadata": {},
   "outputs": [
    {
     "name": "stdout",
     "output_type": "stream",
     "text": [
      "\n",
      "Best Model Performance on Test Set:\n",
      "Root Mean Squared Error (RMSE): 0.21\n",
      "R-Squared Score: 0.01\n",
      "\n",
      "Best Hyperparameters found:\n",
      "{'learning_rate': 0.01, 'max_depth': 3, 'subsample': 1.0}\n"
     ]
    }
   ],
   "source": [
    "from sklearn.model_selection import GridSearchCV\n",
    "from xgboost import XGBRegressor\n",
    "\n",
    "# Define a set of hyperparameters to tune\n",
    "param_grid = {\n",
    "    'max_depth': [3, 5, 7],              # Try different tree depths\n",
    "    'learning_rate': [0.01, 0.1, 0.2],   # Try different learning rates\n",
    "    'subsample': [0.6, 0.8, 1.0],        # Try different subsample ratios\n",
    "}\n",
    "\n",
    "# Create the XGBRegressor model\n",
    "model = XGBRegressor(random_state=42)\n",
    "\n",
    "# Use GridSearchCV to search for the best combination of hyperparameters\n",
    "grid_search = GridSearchCV(model, param_grid, cv=3, scoring='neg_mean_squared_error')\n",
    "\n",
    "# Fit the grid search\n",
    "grid_search.fit(X_train_scaled, y_train)\n",
    "\n",
    "# Get the best model after tuning\n",
    "best_model = grid_search.best_estimator_\n",
    "\n",
    "# Make predictions with the best model\n",
    "y_pred_best = best_model.predict(X_test_scaled)\n",
    "\n",
    "# Evaluate the model performance\n",
    "rmse_best = root_mean_squared_error(y_test, y_pred_best)\n",
    "r2_best = r2_score(y_test, y_pred_best)\n",
    "\n",
    "print(\"\\nBest Model Performance on Test Set:\")\n",
    "print(f\"Root Mean Squared Error (RMSE): {rmse_best:.2f}\")\n",
    "print(f\"R-Squared Score: {r2_best:.2f}\")\n",
    "\n",
    "# Display the best hyperparameters\n",
    "print(\"\\nBest Hyperparameters found:\")\n",
    "print(grid_search.best_params_)\n"
   ]
  },
  {
   "cell_type": "code",
   "execution_count": 176,
   "id": "e4ddf4bd",
   "metadata": {},
   "outputs": [
    {
     "name": "stdout",
     "output_type": "stream",
     "text": [
      "\n",
      "Accuracy: 0.96\n",
      "ROC-AUC Score: 0.64\n"
     ]
    }
   ],
   "source": [
    "from sklearn.metrics import accuracy_score, roc_auc_score\n",
    "\n",
    "# Round the predicted values to 0 or 1 for pass/fail classification\n",
    "y_pred_class = [1 if pred >= 0.5 else 0 for pred in y_pred_best]\n",
    "\n",
    "# Calculate accuracy\n",
    "accuracy = accuracy_score(y_test, y_pred_class)\n",
    "\n",
    "# Calculate ROC-AUC score\n",
    "roc_auc = roc_auc_score(y_test, y_pred_best)\n",
    "\n",
    "print(f\"\\nAccuracy: {accuracy:.2f}\")\n",
    "print(f\"ROC-AUC Score: {roc_auc:.2f}\")\n"
   ]
  }
 ],
 "metadata": {
  "kernelspec": {
   "display_name": ".venv",
   "language": "python",
   "name": "python3"
  },
  "language_info": {
   "codemirror_mode": {
    "name": "ipython",
    "version": 3
   },
   "file_extension": ".py",
   "mimetype": "text/x-python",
   "name": "python",
   "nbconvert_exporter": "python",
   "pygments_lexer": "ipython3",
   "version": "3.12.6"
  }
 },
 "nbformat": 4,
 "nbformat_minor": 5
}
