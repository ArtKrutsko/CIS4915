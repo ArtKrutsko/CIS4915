{
 "cells": [
  {
   "cell_type": "code",
   "execution_count": 1,
   "id": "d68cd49e-cdf4-4df2-abd4-5a4bdb730818",
   "metadata": {
    "jupyter": {
     "source_hidden": true
    }
   },
   "outputs": [],
   "source": [
    "import pandas as pd"
   ]
  },
  {
   "cell_type": "code",
   "execution_count": 5,
   "id": "74e74a56-ee4c-4aba-93bf-80f012257600",
   "metadata": {},
   "outputs": [],
   "source": [
    "pd.set_option('display.max_columns', None)\n",
    "subdata = pd.read_csv(\"ML - Curricular Analytics - PIDM ONLY.csv\", nrows=40)\n",
    "df = pd.read_csv(\"ML - Curricular Analytics - PIDM ONLY.csv\")"
   ]
  },
  {
   "cell_type": "code",
   "execution_count": 6,
   "id": "2e141bfd-d24a-4d27-b477-803781996878",
   "metadata": {},
   "outputs": [
    {
     "name": "stdout",
     "output_type": "stream",
     "text": [
      "Total distinct students: 105883\n"
     ]
    }
   ],
   "source": [
    "total_students = df['Pidm'].nunique()\n",
    "print(f'Total distinct students: {total_students}')"
   ]
  },
  {
   "cell_type": "code",
   "execution_count": 7,
   "id": "b25bc3f4-a4d0-4010-891a-ba02cd33f262",
   "metadata": {},
   "outputs": [
    {
     "name": "stdout",
     "output_type": "stream",
     "text": [
      "U.S. citizens: 2479471\n",
      "Non-citizens: 184086\n"
     ]
    }
   ],
   "source": [
    "citizenship_distribution = df['CITZ_IND'].value_counts()\n",
    "\n",
    "C1 = citizenship_distribution.get('Y', 0)  # 'Y' for U.S. citizens\n",
    "C2 = citizenship_distribution.get('N', 0)  # 'N' for non-citizens\n",
    "\n",
    "print(f'U.S. citizens: {C1}')\n",
    "print(f'Non-citizens: {C2}')"
   ]
  },
  {
   "cell_type": "code",
   "execution_count": 10,
   "id": "00610b90-7840-495e-9730-13ce56cd76c7",
   "metadata": {},
   "outputs": [
    {
     "name": "stdout",
     "output_type": "stream",
     "text": [
      "Students who took the SAT: 1698682\n",
      "Students who took the ACT: 1466052\n",
      "Students who took both SAT and ACT: 727240\n"
     ]
    }
   ],
   "source": [
    "# Convert columns to numeric, forcing invalid entries like '-' to NaN\n",
    "df['SAT_TOTAL'] = pd.to_numeric(df['SAT_TOTAL'], errors='coerce')\n",
    "df['EACT'] = pd.to_numeric(df['EACT'], errors='coerce')\n",
    "\n",
    "# Count students who took the SAT (non-null and greater than zero in SAT_TOTAL)\n",
    "S = df[df['SAT_TOTAL'] > 0]['SAT_TOTAL'].count()\n",
    "\n",
    "# Count students who took the ACT (non-null and greater than zero in EACT)\n",
    "A = df[df['EACT'] > 0]['EACT'].count()\n",
    "\n",
    "# Count students who took both SAT and ACT\n",
    "both = df[(df['SAT_TOTAL'] > 0) & (df['EACT'] > 0)].shape[0]\n",
    "\n",
    "# Output the results\n",
    "print(f'Students who took the SAT: {S}')\n",
    "print(f'Students who took the ACT: {A}')\n",
    "print(f'Students who took both SAT and ACT: {both}')"
   ]
  },
  {
   "cell_type": "code",
   "execution_count": null,
   "id": "2bb25681-a407-46ad-99b5-eef7a92a51ae",
   "metadata": {},
   "outputs": [],
   "source": []
  }
 ],
 "metadata": {
  "kernelspec": {
   "display_name": "Python 3 (ipykernel)",
   "language": "python",
   "name": "python3"
  },
  "language_info": {
   "codemirror_mode": {
    "name": "ipython",
    "version": 3
   },
   "file_extension": ".py",
   "mimetype": "text/x-python",
   "name": "python",
   "nbconvert_exporter": "python",
   "pygments_lexer": "ipython3",
   "version": "3.11.2"
  }
 },
 "nbformat": 4,
 "nbformat_minor": 5
}
